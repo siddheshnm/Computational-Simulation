{
 "cells": [
  {
   "cell_type": "markdown",
   "metadata": {},
   "source": [
    "## Lecture-6 Tutorial\n",
    "### Steady-state 1D heat conduction with Dirichlet boundary condition at both ends\n",
    "### heat source"
   ]
  },
  {
   "cell_type": "code",
   "execution_count": 1,
   "metadata": {},
   "outputs": [],
   "source": [
    "import numpy as np\n",
    "import matplotlib.pyplot as plt"
   ]
  },
  {
   "cell_type": "code",
   "execution_count": 2,
   "metadata": {},
   "outputs": [
    {
     "name": "stdout",
     "output_type": "stream",
     "text": [
      "[0. 0. 0. 0. 0. 0. 0.]\n"
     ]
    }
   ],
   "source": [
    "T = np.zeros(7)\n",
    "a = np.zeros(6)\n",
    "b = np.zeros(6)\n",
    "c = np.zeros(6)\n",
    "d = np.zeros(6)\n",
    "print(T)"
   ]
  },
  {
   "cell_type": "code",
   "execution_count": 3,
   "metadata": {},
   "outputs": [],
   "source": [
    "def fx(xx):\n",
    "    ff = -T_peak*np.exp(-(xx-x[3])**2/2)\n",
    "    return ff"
   ]
  },
  {
   "cell_type": "code",
   "execution_count": 4,
   "metadata": {},
   "outputs": [
    {
     "data": {
      "text/plain": [
       "[<matplotlib.lines.Line2D at 0x7f83dddca430>]"
      ]
     },
     "execution_count": 4,
     "metadata": {},
     "output_type": "execute_result"
    },
    {
     "data": {
      "image/png": "[encoded data removed]",
      "text/plain": [
       "<Figure size 432x288 with 1 Axes>"
      ]
     },
     "metadata": {
      "needs_background": "light"
     },
     "output_type": "display_data"
    }
   ],
   "source": [
    "T[0] = 320\n",
    "T[6] = 300\n",
    "T_peak = 350\n",
    "x = np.linspace(0,1,np.size(T))\n",
    "f = np.zeros(np.size(x))\n",
    "\n",
    "for i in range(1,6,1):\n",
    "    a[i] = 1\n",
    "    b[i] = -2\n",
    "    c[i] = 1\n",
    "    f[i] = fx(x[i])\n",
    "    if i==1:\n",
    "        d[i] = -a[i]*T[0] + f[i]\n",
    "    elif i==5:\n",
    "        d[i] = -a[i]*T[6] + f[i]\n",
    "    else:\n",
    "        d[i] = f[i]\n",
    "plt.plot(x,f)"
   ]
  },
  {
   "cell_type": "code",
   "execution_count": 5,
   "metadata": {},
   "outputs": [
    {
     "name": "stdout",
     "output_type": "stream",
     "text": [
      "[ 0.         -2.         -1.5        -1.33333333 -1.25       -1.2       ]\n",
      "[    0.          -651.08581412  -670.71539792  -797.14359861\n",
      "  -943.03018982 -1385.50996597]\n"
     ]
    }
   ],
   "source": [
    "for i in range(2,6,1):\n",
    "    b[i] = b[i] - (a[i]/b[i-1]) * c[i-1]\n",
    "    d[i] = d[i] - (a[i]/b[i-1]) * d[i-1]\n",
    "\n",
    "print(b)\n",
    "print(d)"
   ]
  },
  {
   "cell_type": "code",
   "execution_count": 6,
   "metadata": {},
   "outputs": [
    {
     "name": "stdout",
     "output_type": "stream",
     "text": [
      "[ 320.         1167.92497164 1684.76412917 1856.43079584 1678.0974625\n",
      " 1154.59163831  300.        ]\n"
     ]
    }
   ],
   "source": [
    "T[5] = d[5]/b[5]\n",
    "for i in range(4,0,-1):\n",
    "    T[i] = (d[i]-c[i]*T[i+1]) / b[i]\n",
    "print(T)"
   ]
  },
  {
   "cell_type": "code",
   "execution_count": 7,
   "metadata": {},
   "outputs": [
    {
     "data": {
      "text/plain": [
       "[<matplotlib.lines.Line2D at 0x7f83ddd2a790>]"
      ]
     },
     "execution_count": 7,
     "metadata": {},
     "output_type": "execute_result"
    },
    {
     "data": {
      "image/png": "[encoded data removed]",
      "text/plain": [
       "<Figure size 432x288 with 1 Axes>"
      ]
     },
     "metadata": {
      "needs_background": "light"
     },
     "output_type": "display_data"
    }
   ],
   "source": [
    "\n",
    "plt.plot(x,T)\n",
    "#plt.ylim([300,320])"
   ]
  },
  {
   "cell_type": "code",
   "execution_count": null,
   "metadata": {},
   "outputs": [],
   "source": []
  }
 ],
 "metadata": {
  "kernelspec": {
   "display_name": "Python 3",
   "language": "python",
   "name": "python3"
  },
  "language_info": {
   "codemirror_mode": {
    "name": "ipython",
    "version": 3
   },
   "file_extension": ".py",
   "mimetype": "text/x-python",
   "name": "python",
   "nbconvert_exporter": "python",
   "pygments_lexer": "ipython3",
   "version": "3.8.5"
  }
 },
 "nbformat": 4,
 "nbformat_minor": 4
}

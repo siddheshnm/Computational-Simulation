{
 "cells": [
  {
   "cell_type": "markdown",
   "metadata": {},
   "source": [
    "## Lecture-5 Tutorial Part-1\n",
    "### Steady-state 1D heat conduction with Dirichlet boundary condition at both ends"
   ]
  },
  {
   "cell_type": "code",
   "execution_count": 1,
   "metadata": {},
   "outputs": [],
   "source": [
    "import numpy as np\n",
    "import matplotlib.pyplot as plt"
   ]
  },
  {
   "cell_type": "code",
   "execution_count": 2,
   "metadata": {},
   "outputs": [
    {
     "name": "stdout",
     "output_type": "stream",
     "text": [
      "[0. 0. 0. 0. 0. 0. 0.]\n"
     ]
    }
   ],
   "source": [
    "T = np.zeros(7)\n",
    "a = np.zeros(6)\n",
    "b = np.zeros(6)\n",
    "c = np.zeros(6)\n",
    "d = np.zeros(6)\n",
    "print(T)"
   ]
  },
  {
   "cell_type": "code",
   "execution_count": 3,
   "metadata": {},
   "outputs": [],
   "source": [
    "T[0] = 320\n",
    "T[6] = 300\n",
    "\n",
    "for i in range(1,6,1):\n",
    "    a[i] = 1\n",
    "    b[i] = -2\n",
    "    c[i] = 1\n",
    "    if i==1:\n",
    "        d[i] = -a[i]*T[0]\n",
    "    elif i==5:\n",
    "        d[i] = -a[i]*T[6]\n"
   ]
  },
  {
   "cell_type": "code",
   "execution_count": 4,
   "metadata": {},
   "outputs": [
    {
     "name": "stdout",
     "output_type": "stream",
     "text": [
      "[ 0.         -2.         -1.5        -1.33333333 -1.25       -1.2       ]\n",
      "[   0.         -320.         -160.         -106.66666667  -80.\n",
      " -364.        ]\n"
     ]
    }
   ],
   "source": [
    "for i in range(2,6,1):\n",
    "    b[i] = b[i] - (a[i]/b[i-1]) * c[i-1]\n",
    "    d[i] = d[i] - (a[i]/b[i-1]) * d[i-1]\n",
    "\n",
    "print(b)\n",
    "print(d)"
   ]
  },
  {
   "cell_type": "code",
   "execution_count": 5,
   "metadata": {},
   "outputs": [
    {
     "name": "stdout",
     "output_type": "stream",
     "text": [
      "[320.         316.66666667 313.33333333 310.         306.66666667\n",
      " 303.33333333 300.        ]\n"
     ]
    }
   ],
   "source": [
    "T[5] = d[5]/b[5]\n",
    "for i in range(4,0,-1):\n",
    "    T[i] = (d[i]-c[i]*T[i+1]) / b[i]\n",
    "print(T)"
   ]
  },
  {
   "cell_type": "code",
   "execution_count": 6,
   "metadata": {},
   "outputs": [
    {
     "data": {
      "text/plain": [
       "[<matplotlib.lines.Line2D at 0x7f4a9f941130>]"
      ]
     },
     "execution_count": 6,
     "metadata": {},
     "output_type": "execute_result"
    },
    {
     "data": {
      "image/png": "[encoded data removed]",
      "text/plain": [
       "<Figure size 432x288 with 1 Axes>"
      ]
     },
     "metadata": {
      "needs_background": "light"
     },
     "output_type": "display_data"
    }
   ],
   "source": [
    "x = np.linspace(0,1,np.size(T))\n",
    "\n",
    "plt.plot(x,T)"
   ]
  },
  {
   "cell_type": "code",
   "execution_count": null,
   "metadata": {},
   "outputs": [],
   "source": []
  }
 ],
 "metadata": {
  "kernelspec": {
   "display_name": "Python 3",
   "language": "python",
   "name": "python3"
  },
  "language_info": {
   "codemirror_mode": {
    "name": "ipython",
    "version": 3
   },
   "file_extension": ".py",
   "mimetype": "text/x-python",
   "name": "python",
   "nbconvert_exporter": "python",
   "pygments_lexer": "ipython3",
   "version": "3.8.5"
  }
 },
 "nbformat": 4,
 "nbformat_minor": 4
}

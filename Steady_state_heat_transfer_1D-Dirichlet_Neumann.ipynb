{
 "cells": [
  {
   "cell_type": "markdown",
   "metadata": {},
   "source": [
    "## Lecture-5 Tutorial Part-2\n",
    "### Steady-state 1D heat conduction with Dirichlet boundary condition at one end and Neumann boundary condition at the other end"
   ]
  },
  {
   "cell_type": "code",
   "execution_count": 1,
   "metadata": {},
   "outputs": [],
   "source": [
    "import numpy as np\n",
    "import matplotlib.pyplot as plt"
   ]
  },
  {
   "cell_type": "code",
   "execution_count": 2,
   "metadata": {},
   "outputs": [
    {
     "name": "stdout",
     "output_type": "stream",
     "text": [
      "[0. 0. 0. 0. 0. 0. 0.]\n"
     ]
    }
   ],
   "source": [
    "T = np.zeros(7)\n",
    "a = np.zeros(6)\n",
    "b = np.zeros(6)\n",
    "c = np.zeros(6)\n",
    "d = np.zeros(6)\n",
    "print(T)"
   ]
  },
  {
   "cell_type": "code",
   "execution_count": 3,
   "metadata": {},
   "outputs": [
    {
     "name": "stdout",
     "output_type": "stream",
     "text": [
      "0.16666666666666666\n",
      "[0.         0.16666667 0.33333333 0.5        0.66666667 0.83333333\n",
      " 1.        ]\n"
     ]
    }
   ],
   "source": [
    "T[0] = 320\n",
    "xmin = 0\n",
    "xmax = 1\n",
    "x = np.linspace(xmin,xmax,np.size(T))\n",
    "delta_x = (xmax-xmin)/(np.size(T)-1)\n",
    "print(delta_x)\n",
    "for i in range(1,6,1):\n",
    "    a[i] = 1\n",
    "    b[i] = -2\n",
    "    c[i] = 1\n",
    "    if i==1:\n",
    "        d[i] = -a[i]*T[0]\n",
    "    elif i==5:\n",
    "        d[i] = delta_x\n",
    "b[5] = -3\n",
    "print(x)"
   ]
  },
  {
   "cell_type": "code",
   "execution_count": 4,
   "metadata": {},
   "outputs": [
    {
     "name": "stdout",
     "output_type": "stream",
     "text": [
      "[ 0.         -2.         -1.5        -1.33333333 -1.25       -2.2       ]\n",
      "[   0.         -320.         -160.         -106.66666667  -80.\n",
      "  -63.83333333]\n"
     ]
    }
   ],
   "source": [
    "for i in range(2,6,1):\n",
    "    b[i] = b[i] - (a[i]/b[i-1]) * c[i-1]\n",
    "    d[i] = d[i] - (a[i]/b[i-1]) * d[i-1]\n",
    "\n",
    "print(b)\n",
    "print(d)"
   ]
  },
  {
   "cell_type": "code",
   "execution_count": 5,
   "metadata": {},
   "outputs": [
    {
     "name": "stdout",
     "output_type": "stream",
     "text": [
      "[320.         261.8030303  203.60606061 145.40909091  87.21212121\n",
      "  29.01515152   0.        ]\n"
     ]
    }
   ],
   "source": [
    "T[5] = d[5]/b[5]\n",
    "for i in range(4,0,-1):\n",
    "    T[i] = (d[i]-c[i]*T[i+1]) / b[i]\n",
    "print(T)\n",
    "T[6] = T[5]-delta_x"
   ]
  },
  {
   "cell_type": "code",
   "execution_count": 6,
   "metadata": {},
   "outputs": [
    {
     "data": {
      "text/plain": [
       "[<matplotlib.lines.Line2D at 0x7f2888f49eb0>]"
      ]
     },
     "execution_count": 6,
     "metadata": {},
     "output_type": "execute_result"
    },
    {
     "data": {
      "image/png": "[encoded data removed]",
      "text/plain": [
       "<Figure size 432x288 with 1 Axes>"
      ]
     },
     "metadata": {
      "needs_background": "light"
     },
     "output_type": "display_data"
    }
   ],
   "source": [
    "plt.plot(x,T)\n"
   ]
  },
  {
   "cell_type": "code",
   "execution_count": null,
   "metadata": {},
   "outputs": [],
   "source": []
  }
 ],
 "metadata": {
  "kernelspec": {
   "display_name": "Python 3",
   "language": "python",
   "name": "python3"
  },
  "language_info": {
   "codemirror_mode": {
    "name": "ipython",
    "version": 3
   },
   "file_extension": ".py",
   "mimetype": "text/x-python",
   "name": "python",
   "nbconvert_exporter": "python",
   "pygments_lexer": "ipython3",
   "version": "3.8.5"
  }
 },
 "nbformat": 4,
 "nbformat_minor": 4
}
